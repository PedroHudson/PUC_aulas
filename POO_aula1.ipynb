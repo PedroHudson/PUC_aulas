{
  "nbformat": 4,
  "nbformat_minor": 0,
  "metadata": {
    "colab": {
      "provenance": [],
      "authorship_tag": "ABX9TyMXVLKVRhBxsMzgyeYPuJnr",
      "include_colab_link": true
    },
    "kernelspec": {
      "name": "python3",
      "display_name": "Python 3"
    },
    "language_info": {
      "name": "python"
    }
  },
  "cells": [
    {
      "cell_type": "markdown",
      "metadata": {
        "id": "view-in-github",
        "colab_type": "text"
      },
      "source": [
        "<a href=\"https://colab.research.google.com/github/PedroHudson/PUC_aulas/blob/main/POO_aula1.ipynb\" target=\"_parent\"><img src=\"https://colab.research.google.com/assets/colab-badge.svg\" alt=\"Open In Colab\"/></a>"
      ]
    },
    {
      "cell_type": "code",
      "execution_count": 1,
      "metadata": {
        "colab": {
          "base_uri": "https://localhost:8080/"
        },
        "id": "PtuwpimMgy7t",
        "outputId": "fbb45c40-de17-4a99-cfc5-a181d5f21bac"
      },
      "outputs": [
        {
          "output_type": "stream",
          "name": "stdout",
          "text": [
            "Hallo Welt!\n"
          ]
        }
      ],
      "source": [
        "# Programacao orientada a objetos\n",
        "\n",
        "# comentario de apenas uma linha\n",
        "print('Hallo Welt!')\n"
      ]
    },
    {
      "cell_type": "code",
      "source": [
        "# zen do pythom\n",
        "\n",
        "import this"
      ],
      "metadata": {
        "colab": {
          "base_uri": "https://localhost:8080/"
        },
        "id": "R_xuqYwmhMCB",
        "outputId": "6e37dec0-348b-4d61-991d-f91ae18b4021"
      },
      "execution_count": 2,
      "outputs": [
        {
          "output_type": "stream",
          "name": "stdout",
          "text": [
            "The Zen of Python, by Tim Peters\n",
            "\n",
            "Beautiful is better than ugly.\n",
            "Explicit is better than implicit.\n",
            "Simple is better than complex.\n",
            "Complex is better than complicated.\n",
            "Flat is better than nested.\n",
            "Sparse is better than dense.\n",
            "Readability counts.\n",
            "Special cases aren't special enough to break the rules.\n",
            "Although practicality beats purity.\n",
            "Errors should never pass silently.\n",
            "Unless explicitly silenced.\n",
            "In the face of ambiguity, refuse the temptation to guess.\n",
            "There should be one-- and preferably only one --obvious way to do it.\n",
            "Although that way may not be obvious at first unless you're Dutch.\n",
            "Now is better than never.\n",
            "Although never is often better than *right* now.\n",
            "If the implementation is hard to explain, it's a bad idea.\n",
            "If the implementation is easy to explain, it may be a good idea.\n",
            "Namespaces are one honking great idea -- let's do more of those!\n"
          ]
        }
      ]
    },
    {
      "cell_type": "code",
      "source": [
        "# variaveis = definicao e tipos\n",
        "\n",
        "# declarando 4 variaveis e atribuindo valores a elas\n",
        "uma_string = 'Aluno'\n",
        "um_inteiro = 7\n",
        "um_float = 7.584\n",
        "um_booleano = True\n",
        "\n",
        "# imprimindo o valor e o tipo de uma das variaveis\n",
        "print(um_float)\n",
        "print(type(um_float))\n"
      ],
      "metadata": {
        "colab": {
          "base_uri": "https://localhost:8080/"
        },
        "id": "rj_UPRXnhZ0v",
        "outputId": "20a4b606-aca6-44fe-92b6-1890072a87f7"
      },
      "execution_count": 37,
      "outputs": [
        {
          "output_type": "stream",
          "name": "stdout",
          "text": [
            "7.584\n",
            "<class 'float'>\n"
          ]
        }
      ]
    },
    {
      "cell_type": "code",
      "source": [
        "# convertendo a variavel tipo float para int e para string\n",
        "print(int(um_float))\n",
        "print(str(um_float))\n"
      ],
      "metadata": {
        "colab": {
          "base_uri": "https://localhost:8080/"
        },
        "id": "n3Jj20soidiQ",
        "outputId": "b59d0953-482a-4371-8663-137588f23d34"
      },
      "execution_count": 4,
      "outputs": [
        {
          "output_type": "stream",
          "name": "stdout",
          "text": [
            "7\n",
            "7.584\n"
          ]
        }
      ]
    },
    {
      "cell_type": "code",
      "source": [
        "# soma, subtracao, multiplicacao, divisao, potenciacao e resto da divisao\n",
        "resultado_1 = 7 + 5\n",
        "resultado_2 = um_inteiro - resultado_1\n",
        "resultado_3 = resultado_2 * 3\n",
        "resultado_4 = resultado_3 / 4\n",
        "resultado_5 = 2 ** 4\n",
        "resultado_6 = 13 % 4\n",
        "\n",
        "# imprimindo os resultados concatenando uma string com o resultado numerico\n",
        "print('O resultado da soma = ' + str(resultado_1))\n",
        "print('O resultado da subtracao =' + str(resultado_2))\n",
        "print('O resultado da multiplicacao = ' + str(resultado_3))\n",
        "print('O resultado da divisao = ' + str(resultado_4))\n",
        "print('O resultado da potenciacao = ' + str(resultado_6))\n",
        "\n"
      ],
      "metadata": {
        "colab": {
          "base_uri": "https://localhost:8080/"
        },
        "id": "Xhr_-hNvi0ww",
        "outputId": "27784b00-3b40-42e1-c5bc-2d6bceb59a08"
      },
      "execution_count": 9,
      "outputs": [
        {
          "output_type": "stream",
          "name": "stdout",
          "text": [
            "O resultado da soma = 12\n",
            "O resultado da subtracao =-5\n",
            "O resultado da multiplicacao = -15\n",
            "O resultado da divisao = -3.75\n",
            "O resultado da potenciacao = 1\n"
          ]
        }
      ]
    },
    {
      "cell_type": "code",
      "source": [
        "# incremento e decremento\n",
        "\n",
        "# decrementando 2 unidades\n",
        "um_inteiro -= 3\n",
        "print('O resultado :' + str(um_inteiro)) \n",
        "\n",
        "# incrementando 5 unidades\n",
        "um_inteiro += 5\n",
        "print('o resultado :' + str(um_inteiro))\n"
      ],
      "metadata": {
        "colab": {
          "base_uri": "https://localhost:8080/"
        },
        "id": "VixyBdPAoZx0",
        "outputId": "955d766d-8005-42b8-d911-1ca0edf001c3"
      },
      "execution_count": 38,
      "outputs": [
        {
          "output_type": "stream",
          "name": "stdout",
          "text": [
            "O resultado :4\n",
            "o resultado :9\n"
          ]
        }
      ]
    },
    {
      "cell_type": "code",
      "source": [
        "# operadores de igualdade\n",
        "\n",
        "variavel_um = 1\n",
        "variavel_dois = 2\n",
        "variavel_tres = 3\n",
        "\n",
        "print(1 == variavel_um)\n",
        "print(2 == variavel_um)\n",
        "\n",
        "equal = (variavel_um == variavel_dois)\n",
        "not_equal = (variavel_um != variavel_dois)\n",
        "\n",
        "print('um e igual a dois?' + str(equal))\n",
        "print('um e diferente de dois?' + str(not_equal))\n",
        "\n",
        "# operadores de comparacao\n",
        "\n",
        "print(\"Um e maior que dois?\" + str(variavel_um > variavel_dois))\n",
        "print('Um e menor que dois?' + str(variavel_um < variavel_dois))\n",
        "\n"
      ],
      "metadata": {
        "colab": {
          "base_uri": "https://localhost:8080/"
        },
        "id": "gg0wDHz0p1SO",
        "outputId": "f89ab914-96d4-4797-d4f0-672d37a68faf"
      },
      "execution_count": 44,
      "outputs": [
        {
          "output_type": "stream",
          "name": "stdout",
          "text": [
            "True\n",
            "False\n",
            "um e igual a dois?False\n",
            "um e diferente de dois?True\n",
            "Um e maior que dois?False\n",
            "Um e menor que dois?True\n"
          ]
        }
      ]
    },
    {
      "cell_type": "code",
      "source": [
        "# Operadores logicos\n",
        "\n",
        "print((2 > 1) and (3 < 5))\n",
        "print((2 > 1) and (1 > 3))\n",
        "\n",
        "print((3 < 5) or (2 > 1))\n",
        "print((0 > 1) or (0 == -1))\n",
        "print((0 < 1) or (o == -1))\n"
      ],
      "metadata": {
        "colab": {
          "base_uri": "https://localhost:8080/"
        },
        "id": "046RKcZ28SYA",
        "outputId": "4aac5556-2796-468d-adaf-9d52aaf4731d"
      },
      "execution_count": 51,
      "outputs": [
        {
          "output_type": "stream",
          "name": "stdout",
          "text": [
            "True\n",
            "False\n",
            "True\n",
            "False\n",
            "True\n"
          ]
        }
      ]
    },
    {
      "cell_type": "code",
      "source": [
        "# strings\n",
        "\n",
        "# concatenacao\n",
        "\n",
        "programacao = 'Programacao'\n",
        "oo = 'OO'\n",
        "programacao_oo = programacao + ' ' + oo\n",
        "print(programacao_oo)\n"
      ],
      "metadata": {
        "colab": {
          "base_uri": "https://localhost:8080/"
        },
        "id": "qXLGi6CD-GwM",
        "outputId": "5ce38c40-2de7-43ba-e3f7-3f24f84eb2d0"
      },
      "execution_count": 53,
      "outputs": [
        {
          "output_type": "stream",
          "name": "stdout",
          "text": [
            "Programacao OO\n"
          ]
        }
      ]
    },
    {
      "cell_type": "code",
      "source": [
        "# tamanho\n",
        "\n",
        "print(len(programacao_oo))\n"
      ],
      "metadata": {
        "colab": {
          "base_uri": "https://localhost:8080/"
        },
        "id": "WWZRrqeE-uuR",
        "outputId": "451b5700-10b4-4d73-eda0-f84349a1fce0"
      },
      "execution_count": 55,
      "outputs": [
        {
          "output_type": "stream",
          "name": "stdout",
          "text": [
            "14\n"
          ]
        }
      ]
    },
    {
      "cell_type": "code",
      "source": [
        "# indexacao e substrings\n",
        "\n",
        "frase = 'Python e muito divertido!'\n",
        "\n",
        "# a indexacao comeca com 0\n",
        "print(frase[3])\n",
        "\n",
        "# use -1 para pegar a ultima letra\n",
        "print(frase[-1])\n",
        "\n",
        "# use -2 para pegar a penultima letra\n",
        "print(frase[-2])\n",
        "\n",
        "# string[start:end] - end nao e incluso\n",
        "print(frase[:4])\n",
        "print(frase[10:])\n",
        "print(frase[:])\n"
      ],
      "metadata": {
        "colab": {
          "base_uri": "https://localhost:8080/"
        },
        "id": "yLUe-NaU-8Js",
        "outputId": "3df31824-fb03-4c40-e5a6-9d17e59dbb65"
      },
      "execution_count": 62,
      "outputs": [
        {
          "output_type": "stream",
          "name": "stdout",
          "text": [
            "h\n",
            "!\n",
            "o\n",
            "Pyth\n",
            "uito divertido!\n",
            "Python e muito divertido!\n"
          ]
        }
      ]
    },
    {
      "cell_type": "code",
      "source": [
        "# multiplicacao de uma string por um numero\n",
        "ola = 'ola'\n",
        "sete_olas = ola * 7\n",
        "print(sete_olas)\n"
      ],
      "metadata": {
        "colab": {
          "base_uri": "https://localhost:8080/"
        },
        "id": "0kwYYuN_KRgU",
        "outputId": "b3e247c2-89ad-4dab-b445-b3c541a1d86d"
      },
      "execution_count": 64,
      "outputs": [
        {
          "output_type": "stream",
          "name": "stdout",
          "text": [
            "olaolaolaolaolaolaola\n"
          ]
        }
      ]
    },
    {
      "cell_type": "code",
      "source": [
        "# operador in\n",
        "\n",
        "programacao_python = 'Programacao em Python'\n",
        "\n",
        "# checa se a string contem Python\n",
        "print('Python' in programacao_python)\n",
        "\n",
        "# checa se a string contem pythonnn\n",
        "print('pythonnn' in programacao_python)\n",
        "\n",
        "# checa de a string contem abacate\n",
        "print('abacate' in programacao_python)\n"
      ],
      "metadata": {
        "colab": {
          "base_uri": "https://localhost:8080/"
        },
        "id": "6nQmOs6UKjYa",
        "outputId": "895be9e1-0d8c-42d8-d74e-1fbfd64a9ab6"
      },
      "execution_count": 67,
      "outputs": [
        {
          "output_type": "stream",
          "name": "stdout",
          "text": [
            "True\n",
            "False\n",
            "False\n"
          ]
        }
      ]
    },
    {
      "cell_type": "code",
      "source": [
        "# escaping\n",
        "\n",
        "print('Estou estudando\\n' + programacao_python)"
      ],
      "metadata": {
        "colab": {
          "base_uri": "https://localhost:8080/"
        },
        "id": "zaGNOWu4LSgv",
        "outputId": "b5795f1b-6d89-45d7-d43a-c4ccba673fcf"
      },
      "execution_count": 69,
      "outputs": [
        {
          "output_type": "stream",
          "name": "stdout",
          "text": [
            "Estou estudando\n",
            "Programacao em Python\n"
          ]
        }
      ]
    },
    {
      "cell_type": "code",
      "source": [
        "# maiusculas e minusculas\n",
        "print(programacao_python.lower())\n",
        "print(programacao_python.upper())\n",
        "print(programacao_python.capitalize())\n"
      ],
      "metadata": {
        "colab": {
          "base_uri": "https://localhost:8080/"
        },
        "id": "34GdnBDSLlHC",
        "outputId": "65dce004-e679-4d03-c4a1-6ee977e28272"
      },
      "execution_count": 72,
      "outputs": [
        {
          "output_type": "stream",
          "name": "stdout",
          "text": [
            "programacao em python\n",
            "PROGRAMACAO EM PYTHON\n",
            "Programacao em python\n"
          ]
        }
      ]
    },
    {
      "cell_type": "code",
      "source": [
        "# formatacao\n",
        "Nome = \"JujuLau\"\n",
        "Numero_inteiro = 18\n",
        "Numero_decimal = 1.856\n",
        "\n",
        "print('Ola, meu nome e %s! Tenho %d anos e %d reais' %(Nome, Numero_inteiro, Numero_decimal)) # float impresso como int\n",
        "print('Ola, meu nome e %s! Tenho %d anos e %f reais' %(Nome, Numero_inteiro,Numero_decimal)) # float impresso como float\n",
        "print('Ola, meu nome e %s! Tenho %d anos e %.2f reais' %(Nome, Numero_inteiro, Numero_decimal)) # float impresso como float com duas caas decimais\n"
      ],
      "metadata": {
        "colab": {
          "base_uri": "https://localhost:8080/"
        },
        "id": "YGE7yiYZL_BE",
        "outputId": "49dd0793-8bd4-4b4d-c377-c0a64d6d57fd"
      },
      "execution_count": 80,
      "outputs": [
        {
          "output_type": "stream",
          "name": "stdout",
          "text": [
            "Ola, meu nome e JujuLau! Tenho 18 anos e 1 reais\n",
            "Ola, meu nome e JujuLau! Tenho 18 anos e 1.856000 reais\n",
            "Ola, meu nome e JujuLau! Tenho 18 anos e 1.86 reais\n"
          ]
        }
      ]
    },
    {
      "cell_type": "code",
      "source": [
        "# colecoes\n",
        "\n",
        "# Listas\n",
        "\n",
        "numeros = [1, 10, 100, 1000]\n",
        "print(numeros)\n",
        "\n",
        "# imprimir o elemento de indice 2 - comeca no 0\n",
        "print(numeros[2])\n"
      ],
      "metadata": {
        "colab": {
          "base_uri": "https://localhost:8080/"
        },
        "id": "-8lVZ7fEOUqO",
        "outputId": "d04a7e61-931e-4500-b4e6-5390a1255f1c"
      },
      "execution_count": 83,
      "outputs": [
        {
          "output_type": "stream",
          "name": "stdout",
          "text": [
            "[1, 10, 100, 1000]\n",
            "100\n"
          ]
        }
      ]
    },
    {
      "cell_type": "code",
      "source": [
        "# operacoes com listas\n",
        "\n",
        "# incluir 2 itens na lista usando +=\n",
        "numeros += [236, 275]\n",
        "print(numeros)\n",
        "\n",
        "# incluir um numero na lista usando append\n",
        "numeros.append(385)\n",
        "print(numeros)\n",
        "\n",
        "# substituir os itens 1 e 2 por 7\n",
        "# [indice_incluido:indice_excluido]\n",
        "numeros[1:3] = [7]\n",
        "print(numeros)"
      ],
      "metadata": {
        "colab": {
          "base_uri": "https://localhost:8080/"
        },
        "id": "-JhlFOjfOv8-",
        "outputId": "712919f3-d865-44e0-c471-8af2668223d8"
      },
      "execution_count": 91,
      "outputs": [
        {
          "output_type": "stream",
          "name": "stdout",
          "text": [
            "[1, 7, 275, 236, 275, 385, 236, 275, 385, 236, 275, 385, 236, 275, 385, 236, 275, 385, 236, 275, 385, 236, 275]\n",
            "[1, 7, 275, 236, 275, 385, 236, 275, 385, 236, 275, 385, 236, 275, 385, 236, 275, 385, 236, 275, 385, 236, 275, 385]\n",
            "[1, 7, 236, 275, 385, 236, 275, 385, 236, 275, 385, 236, 275, 385, 236, 275, 385, 236, 275, 385, 236, 275, 385]\n"
          ]
        }
      ]
    },
    {
      "cell_type": "code",
      "source": [
        "# tuplas\n",
        "\n",
        "naipes = ('zap', 'copas', 'pica-fumo', 'espada')\n",
        "print(naipes)"
      ],
      "metadata": {
        "colab": {
          "base_uri": "https://localhost:8080/"
        },
        "id": "2x11KBI8Q_lo",
        "outputId": "106ee399-45bb-4074-fced-cf63c15ad6c5"
      },
      "execution_count": 92,
      "outputs": [
        {
          "output_type": "stream",
          "name": "stdout",
          "text": [
            "('zap', 'copas', 'pica-fumo', 'espada')\n"
          ]
        }
      ]
    },
    {
      "cell_type": "code",
      "source": [
        "# dicionarios\n",
        "\n",
        "# criar e imprimir um dicionario\n",
        "\n",
        "notas = {'Ana':8, 'Maria':5, 'Rita': 7}\n",
        "print(notas)\n",
        "\n",
        "# acessar o valor correspondente a chave Rita\n",
        "print(notas['Rita'])\n",
        "\n",
        "# incluir novo item\n",
        "notas ['Carla'] = 10\n",
        "print(notas)\n",
        "\n",
        "# remover item\n",
        "del notas['Rita']\n",
        "print(notas)\n",
        "\n"
      ],
      "metadata": {
        "colab": {
          "base_uri": "https://localhost:8080/"
        },
        "id": "ySsLPEEWRPwL",
        "outputId": "28f0bbe3-dcdc-44e9-8895-951cd50fab77"
      },
      "execution_count": 96,
      "outputs": [
        {
          "output_type": "stream",
          "name": "stdout",
          "text": [
            "{'Ana': 8, 'Maria': 5, 'Rita': 7}\n",
            "7\n",
            "{'Ana': 8, 'Maria': 5, 'Rita': 7, 'Carla': 10}\n",
            "{'Ana': 8, 'Maria': 5, 'Carla': 10}\n"
          ]
        }
      ]
    },
    {
      "cell_type": "code",
      "source": [
        "# checar se notas contem o item 'Maria'\n",
        "print('Maria' in notas)"
      ],
      "metadata": {
        "colab": {
          "base_uri": "https://localhost:8080/"
        },
        "id": "TXL6Q_MISR4L",
        "outputId": "9d767f81-8f96-4b98-cc4b-c8f92f7757d5"
      },
      "execution_count": 97,
      "outputs": [
        {
          "output_type": "stream",
          "name": "stdout",
          "text": [
            "True\n"
          ]
        }
      ]
    },
    {
      "cell_type": "code",
      "source": [
        "# condicoes\n",
        "nome = 'Julia'\n",
        "idade = 20\n",
        "\n",
        "# comando if (condicao se)\n",
        "\n",
        "if nome == 'Julia': \n",
        "  print('Te amo amoi')\n",
        "\n",
        "if nome == 'Julia' and idade == 20:\n",
        "  print('Te amo pra sempre tutu')"
      ],
      "metadata": {
        "colab": {
          "base_uri": "https://localhost:8080/"
        },
        "id": "NIk7zWVSSe6T",
        "outputId": "2e931836-ce3d-4feb-a464-711529d867b0"
      },
      "execution_count": 103,
      "outputs": [
        {
          "output_type": "stream",
          "name": "stdout",
          "text": [
            "Te amo amoi\n",
            "Te amo pra sempre tutu\n"
          ]
        }
      ]
    },
    {
      "cell_type": "code",
      "source": [
        "# comandos if, elif e else\n",
        "\n",
        "dias = ['samstag', ' sonntag']\n",
        "if len(dias)== 0:\n",
        "  print('lista vazia')\n",
        "elif len(dias)==1:\n",
        "  print('eine tag')\n",
        "else:\n",
        "  print('Das ist wochenende, und wir haben %d Tages' %len(dias))\n",
        "\n"
      ],
      "metadata": {
        "colab": {
          "base_uri": "https://localhost:8080/"
        },
        "id": "v-eTdnl9T0SH",
        "outputId": "339867ce-d017-4eaf-ca51-94bb6db780a7"
      },
      "execution_count": 105,
      "outputs": [
        {
          "output_type": "stream",
          "name": "stdout",
          "text": [
            "Das ist wochenende, und wir haben 2 Tages\n"
          ]
        }
      ]
    },
    {
      "cell_type": "code",
      "source": [
        "# Loops\n",
        "\n",
        "# loop for\n",
        "for i in range(8):\n",
        "  print(i)\n",
        "\n",
        "# a funcao range() pode ser representada de tres formas diferentes:\n",
        "#range(stop_value): considera o pto inicial como zero\n",
        "#range(start_value, stop_value): gera a sequencia com base no valor inicial e final\n",
        "#range(start_value, stop_value, step_size): gere a sequencia incrementando o valot inicial usando o tamanho do passo ate atingir o valor final"
      ],
      "metadata": {
        "colab": {
          "base_uri": "https://localhost:8080/"
        },
        "id": "hJJh29eZU6ns",
        "outputId": "c0d85e6f-fd07-4586-c8b7-9100ad3f8fcb"
      },
      "execution_count": 106,
      "outputs": [
        {
          "output_type": "stream",
          "name": "stdout",
          "text": [
            "0\n",
            "1\n",
            "2\n",
            "3\n",
            "4\n",
            "5\n",
            "6\n",
            "7\n"
          ]
        }
      ]
    },
    {
      "cell_type": "code",
      "source": [
        "# loop for - outro exemplo\n",
        "pares = [2,4,6,8]\n",
        "for i in range(len(pares)):\n",
        "  print('Indice %d - Valor %d' %(i, pares[i]))\n"
      ],
      "metadata": {
        "colab": {
          "base_uri": "https://localhost:8080/"
        },
        "id": "tYiAk64wcgyo",
        "outputId": "73238fd5-703a-4505-ad21-f19b52798abb"
      },
      "execution_count": 107,
      "outputs": [
        {
          "output_type": "stream",
          "name": "stdout",
          "text": [
            "Indice 0 - Valor 2\n",
            "Indice 1 - Valor 4\n",
            "Indice 2 - Valor 6\n",
            "Indice 3 - Valor 8\n"
          ]
        }
      ]
    },
    {
      "cell_type": "code",
      "source": [
        "# loop for usando string\n",
        "\n",
        "hello_world = 'Hallo Welt!'\n",
        "\n",
        "# imprimir cada caracter\n",
        "for ch in hello_world:\n",
        "  print(ch)\n",
        "\n",
        "# contar a quantidade de caracteres usando loop\n",
        "length = 0\n",
        "for ch in hello_world:\n",
        "  length += 1\n",
        "  print('Numero de caracteres: %d' % length)\n"
      ],
      "metadata": {
        "colab": {
          "base_uri": "https://localhost:8080/"
        },
        "id": "TttmPHL_fqvL",
        "outputId": "b3d6d920-a8d0-4222-fc0f-a45a8317e7fb"
      },
      "execution_count": 109,
      "outputs": [
        {
          "output_type": "stream",
          "name": "stdout",
          "text": [
            "H\n",
            "a\n",
            "l\n",
            "l\n",
            "o\n",
            " \n",
            "W\n",
            "e\n",
            "l\n",
            "t\n",
            "!\n",
            "Numero de caracteres: 1\n",
            "Numero de caracteres: 2\n",
            "Numero de caracteres: 3\n",
            "Numero de caracteres: 4\n",
            "Numero de caracteres: 5\n",
            "Numero de caracteres: 6\n",
            "Numero de caracteres: 7\n",
            "Numero de caracteres: 8\n",
            "Numero de caracteres: 9\n",
            "Numero de caracteres: 10\n",
            "Numero de caracteres: 11\n"
          ]
        }
      ]
    },
    {
      "cell_type": "code",
      "source": [
        "# loop while\n",
        "numero = 1\n",
        "\n",
        "# imprimir de 1 a 7\n",
        "while numero <=7:\n",
        "  print(numero)\n",
        "  numero += 1"
      ],
      "metadata": {
        "colab": {
          "base_uri": "https://localhost:8080/"
        },
        "id": "qntvLuNchQj9",
        "outputId": "4da46cc4-84e2-4abc-e8cf-732136a85554"
      },
      "execution_count": 114,
      "outputs": [
        {
          "output_type": "stream",
          "name": "stdout",
          "text": [
            "1\n",
            "2\n",
            "3\n",
            "4\n",
            "5\n",
            "6\n",
            "7\n"
          ]
        }
      ]
    },
    {
      "cell_type": "code",
      "source": [
        "# imprimir os quadrados menores que 25\n",
        "numero = 1\n",
        "quadrado = 1\n",
        "\n",
        "while quadrado <= 24:\n",
        "  quadrado = numero ** 2\n",
        "  print('Numero %d - Quadrado %d' % (numero, quadrado))\n",
        "  numero += 1\n",
        "\n",
        "print('Ao sair do while, numeor tem o valor de %d' % numero)"
      ],
      "metadata": {
        "colab": {
          "base_uri": "https://localhost:8080/"
        },
        "id": "kExajh4vh4O0",
        "outputId": "121210bc-b70d-43a3-c63b-a1b6d6835e41"
      },
      "execution_count": 115,
      "outputs": [
        {
          "output_type": "stream",
          "name": "stdout",
          "text": [
            "Numero 1 - Quadrado 1\n",
            "Numero 2 - Quadrado 4\n",
            "Numero 3 - Quadrado 9\n",
            "Numero 4 - Quadrado 16\n",
            "Numero 5 - Quadrado 25\n",
            "Ao sair do while, numeor tem o valor de 6\n"
          ]
        }
      ]
    },
    {
      "cell_type": "code",
      "source": [
        "# break \n",
        "\n",
        "count = 0\n",
        "\n",
        "# loop infinito - nunca e False\n",
        "while True:\n",
        "  print(count)\n",
        "  count += 1\n",
        "  if count >=5:\n",
        "    break # sai do loop "
      ],
      "metadata": {
        "colab": {
          "base_uri": "https://localhost:8080/"
        },
        "id": "u1j0kymojCvh",
        "outputId": "991de6af-9d39-4b03-b7c0-59568bfbf2fd"
      },
      "execution_count": 119,
      "outputs": [
        {
          "output_type": "stream",
          "name": "stdout",
          "text": [
            "0\n",
            "1\n",
            "2\n",
            "3\n",
            "4\n"
          ]
        }
      ]
    },
    {
      "cell_type": "code",
      "source": [
        "naipes = ['copeta', 'pica-fumo', 'espadilha', 'zap']\n",
        "\n",
        "# loop infinito - nunca e False\n",
        "while True:\n",
        "  #pop(): retira e retorna o ultimo item da lista \n",
        "  elemento = naipes.pop()\n",
        "  print(elemento)\n",
        "  if elemento =='espadilha':\n",
        "    break"
      ],
      "metadata": {
        "colab": {
          "base_uri": "https://localhost:8080/"
        },
        "id": "AG-dH2a3jndT",
        "outputId": "af619792-80bd-4834-adf9-003657ce20f1"
      },
      "execution_count": 120,
      "outputs": [
        {
          "output_type": "stream",
          "name": "stdout",
          "text": [
            "zap\n",
            "espadilha\n"
          ]
        }
      ]
    },
    {
      "cell_type": "code",
      "source": [
        "# continue\n",
        " \n",
        "for i in range(5):\n",
        "  if i == 3:\n",
        "    continue # pula o resto do codigo e move para a proxima interacao do loop\n",
        "  print(i)"
      ],
      "metadata": {
        "colab": {
          "base_uri": "https://localhost:8080/"
        },
        "id": "pl6X9TKIkf2j",
        "outputId": "cf2ce6da-587e-41a6-e8e5-997ae9173dcc"
      },
      "execution_count": 131,
      "outputs": [
        {
          "output_type": "stream",
          "name": "stdout",
          "text": [
            "0\n",
            "1\n",
            "2\n",
            "4\n"
          ]
        }
      ]
    },
    {
      "cell_type": "code",
      "source": [
        "# imprimir somente os impares\n",
        "for x in range (10):\n",
        "  if (x % 2) ==0: # e par\n",
        "  # pula print(x) para este loop\n",
        "    continue\n",
        "  print('Numero %d'%x)\n",
        "  "
      ],
      "metadata": {
        "colab": {
          "base_uri": "https://localhost:8080/"
        },
        "id": "h-FaDu63lX_V",
        "outputId": "804f1a37-d677-4a66-f540-a797eeb389a1"
      },
      "execution_count": 132,
      "outputs": [
        {
          "output_type": "stream",
          "name": "stdout",
          "text": [
            "Numero 1\n",
            "Numero 3\n",
            "Numero 5\n",
            "Numero 7\n",
            "Numero 9\n"
          ]
        }
      ]
    },
    {
      "cell_type": "code",
      "source": [
        "# Funcoes\n",
        "\n",
        "# definir uma funcao chamada ola mundo \n",
        "def ola_mundo():\n",
        "  print('Hello, World!')\n",
        "  print('Hallo, Welt!')\n",
        "  print('Salut, Monde!')\n",
        "  print('Hola, Mundo!')\n",
        "\n",
        "# chamar a funcao 3 vezes\n",
        "for i in range(3):\n",
        "  ola_mundo()\n",
        "\n",
        "\n"
      ],
      "metadata": {
        "colab": {
          "base_uri": "https://localhost:8080/"
        },
        "id": "avvmD9bamgdP",
        "outputId": "d423f9f2-7181-4ae2-9986-2fb9de7c6b01"
      },
      "execution_count": 134,
      "outputs": [
        {
          "output_type": "stream",
          "name": "stdout",
          "text": [
            "Hello, World!\n",
            "Hallo, Welt!\n",
            "Salut, Monde!\n",
            "Hola, Mundo!\n",
            "Hello, World!\n",
            "Hallo, Welt!\n",
            "Salut, Monde!\n",
            "Hola, Mundo!\n",
            "Hello, World!\n",
            "Hallo, Welt!\n",
            "Salut, Monde!\n",
            "Hola, Mundo!\n"
          ]
        }
      ]
    },
    {
      "cell_type": "code",
      "source": [
        "# funcoes com parametros\n",
        "\n",
        "# x e um parametro\n",
        "def uma_funcao(x):\n",
        "  print('X = %d' % x)\n",
        "\n",
        "# passar 5 para a funcao, aqui 5 e um argumento passado para a funcao\n",
        "uma_funcao(5)"
      ],
      "metadata": {
        "colab": {
          "base_uri": "https://localhost:8080/"
        },
        "id": "uyvGEW-4nZGt",
        "outputId": "13c3e010-15c8-423e-d172-75ef949a47b8"
      },
      "execution_count": 135,
      "outputs": [
        {
          "output_type": "stream",
          "name": "stdout",
          "text": [
            "X = 5\n"
          ]
        }
      ]
    },
    {
      "cell_type": "code",
      "source": [
        "# funcoes com retorno\n",
        "\n",
        "# funcao que retorna a soma de dois numeros\n",
        "def soma(a,b):\n",
        "  return a + b\n",
        "\n",
        "c = soma(7,5)\n",
        "print('c = %d' % c)"
      ],
      "metadata": {
        "colab": {
          "base_uri": "https://localhost:8080/"
        },
        "id": "2YSdMvj-n7vs",
        "outputId": "76e20a22-6e2f-4d4f-a0a8-6a30ba1463df"
      },
      "execution_count": 136,
      "outputs": [
        {
          "output_type": "stream",
          "name": "stdout",
          "text": [
            "c = 12\n"
          ]
        }
      ]
    },
    {
      "cell_type": "code",
      "source": [
        "# funcao com parametros default (padrao)\n",
        "\n",
        "def multiplica (a, b=2):\n",
        "  return a * b\n",
        "\n",
        "print(multiplica(5,84))\n",
        "print(multiplica(7))"
      ],
      "metadata": {
        "colab": {
          "base_uri": "https://localhost:8080/"
        },
        "id": "QjmiyFMIoooM",
        "outputId": "4d46ea05-66a8-4556-c351-bfff1cdea256"
      },
      "execution_count": 142,
      "outputs": [
        {
          "output_type": "stream",
          "name": "stdout",
          "text": [
            "420\n",
            "14\n"
          ]
        }
      ]
    }
  ]
}